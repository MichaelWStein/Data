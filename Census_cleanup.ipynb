{
 "cells": [
  {
   "cell_type": "code",
   "execution_count": 5,
   "metadata": {},
   "outputs": [],
   "source": [
    "#Dependancies\n",
    "import pandas as pd\n",
    "from sqlalchemy import *\n",
    "from sqlalchemy.schema import CreateSchema\n",
    "import pymysql\n",
    "from config import username,pwd,host"
   ]
  },
  {
   "cell_type": "code",
   "execution_count": 6,
   "metadata": {},
   "outputs": [
    {
     "name": "stderr",
     "output_type": "stream",
     "text": [
      "/anaconda3/envs/PythonEnv/lib/python3.6/site-packages/IPython/core/interactiveshell.py:3020: DtypeWarning: Columns (11) have mixed types. Specify dtype option on import or set low_memory=False.\n",
      "  interactivity=interactivity, compiler=compiler, result=result)\n"
     ]
    }
   ],
   "source": [
    "#importing csv file\n",
    "csvfile=\"Census_CSV_data.csv\"\n",
    "df=pd.read_csv(csvfile)"
   ]
  },
  {
   "cell_type": "code",
   "execution_count": 7,
   "metadata": {},
   "outputs": [
    {
     "data": {
      "text/html": [
       "<div>\n",
       "<style scoped>\n",
       "    .dataframe tbody tr th:only-of-type {\n",
       "        vertical-align: middle;\n",
       "    }\n",
       "\n",
       "    .dataframe tbody tr th {\n",
       "        vertical-align: top;\n",
       "    }\n",
       "\n",
       "    .dataframe thead th {\n",
       "        text-align: right;\n",
       "    }\n",
       "</style>\n",
       "<table border=\"1\" class=\"dataframe\">\n",
       "  <thead>\n",
       "    <tr style=\"text-align: right;\">\n",
       "      <th></th>\n",
       "      <th>CENSUS_YEAR</th>\n",
       "      <th>GEO_CODE (POR)</th>\n",
       "      <th>GEO_LEVEL</th>\n",
       "      <th>GEO_NAME</th>\n",
       "      <th>GNR</th>\n",
       "      <th>GNR_LF</th>\n",
       "      <th>DATA_QUALITY_FLAG</th>\n",
       "      <th>ALT_GEO_CODE</th>\n",
       "      <th>DIM: Profile of Federal Electoral Districts (2013 Representation Order) (2247)</th>\n",
       "      <th>Member ID: Profile of Federal Electoral Districts (2013 Representation Order) (2247)</th>\n",
       "      <th>Notes: Profile of Federal Electoral Districts (2013 Representation Order) (2247)</th>\n",
       "      <th>Dim: Sex (3): Member ID: [1]: Total - Sex</th>\n",
       "      <th>Dim: Sex (3): Member ID: [2]: Male</th>\n",
       "      <th>Dim: Sex (3): Member ID: [3]: Female</th>\n",
       "    </tr>\n",
       "  </thead>\n",
       "  <tbody>\n",
       "    <tr>\n",
       "      <th>0</th>\n",
       "      <td>2016</td>\n",
       "      <td>1</td>\n",
       "      <td>0</td>\n",
       "      <td>Canada</td>\n",
       "      <td>4.0</td>\n",
       "      <td>5.1</td>\n",
       "      <td>20000</td>\n",
       "      <td>1</td>\n",
       "      <td>Population, 2016</td>\n",
       "      <td>1</td>\n",
       "      <td>1.0</td>\n",
       "      <td>3.51517e+07</td>\n",
       "      <td>...</td>\n",
       "      <td>...</td>\n",
       "    </tr>\n",
       "    <tr>\n",
       "      <th>1</th>\n",
       "      <td>2016</td>\n",
       "      <td>1</td>\n",
       "      <td>0</td>\n",
       "      <td>Canada</td>\n",
       "      <td>4.0</td>\n",
       "      <td>5.1</td>\n",
       "      <td>20000</td>\n",
       "      <td>1</td>\n",
       "      <td>Population, 2011</td>\n",
       "      <td>2</td>\n",
       "      <td>2.0</td>\n",
       "      <td>3.34767e+07</td>\n",
       "      <td>...</td>\n",
       "      <td>...</td>\n",
       "    </tr>\n",
       "    <tr>\n",
       "      <th>2</th>\n",
       "      <td>2016</td>\n",
       "      <td>1</td>\n",
       "      <td>0</td>\n",
       "      <td>Canada</td>\n",
       "      <td>4.0</td>\n",
       "      <td>5.1</td>\n",
       "      <td>20000</td>\n",
       "      <td>1</td>\n",
       "      <td>Population percentage change, 2011 to 2016</td>\n",
       "      <td>3</td>\n",
       "      <td>NaN</td>\n",
       "      <td>5</td>\n",
       "      <td>...</td>\n",
       "      <td>...</td>\n",
       "    </tr>\n",
       "    <tr>\n",
       "      <th>3</th>\n",
       "      <td>2016</td>\n",
       "      <td>1</td>\n",
       "      <td>0</td>\n",
       "      <td>Canada</td>\n",
       "      <td>4.0</td>\n",
       "      <td>5.1</td>\n",
       "      <td>20000</td>\n",
       "      <td>1</td>\n",
       "      <td>Total private dwellings</td>\n",
       "      <td>4</td>\n",
       "      <td>3.0</td>\n",
       "      <td>1.54124e+07</td>\n",
       "      <td>...</td>\n",
       "      <td>...</td>\n",
       "    </tr>\n",
       "    <tr>\n",
       "      <th>4</th>\n",
       "      <td>2016</td>\n",
       "      <td>1</td>\n",
       "      <td>0</td>\n",
       "      <td>Canada</td>\n",
       "      <td>4.0</td>\n",
       "      <td>5.1</td>\n",
       "      <td>20000</td>\n",
       "      <td>1</td>\n",
       "      <td>Private dwellings occupied by usual residents</td>\n",
       "      <td>5</td>\n",
       "      <td>4.0</td>\n",
       "      <td>1.40721e+07</td>\n",
       "      <td>...</td>\n",
       "      <td>...</td>\n",
       "    </tr>\n",
       "  </tbody>\n",
       "</table>\n",
       "</div>"
      ],
      "text/plain": [
       "   CENSUS_YEAR  GEO_CODE (POR)  GEO_LEVEL GEO_NAME  GNR  GNR_LF  \\\n",
       "0         2016               1          0   Canada  4.0     5.1   \n",
       "1         2016               1          0   Canada  4.0     5.1   \n",
       "2         2016               1          0   Canada  4.0     5.1   \n",
       "3         2016               1          0   Canada  4.0     5.1   \n",
       "4         2016               1          0   Canada  4.0     5.1   \n",
       "\n",
       "   DATA_QUALITY_FLAG  ALT_GEO_CODE  \\\n",
       "0              20000             1   \n",
       "1              20000             1   \n",
       "2              20000             1   \n",
       "3              20000             1   \n",
       "4              20000             1   \n",
       "\n",
       "  DIM: Profile of Federal Electoral Districts (2013 Representation Order) (2247)  \\\n",
       "0                                   Population, 2016                               \n",
       "1                                   Population, 2011                               \n",
       "2         Population percentage change, 2011 to 2016                               \n",
       "3                            Total private dwellings                               \n",
       "4      Private dwellings occupied by usual residents                               \n",
       "\n",
       "   Member ID: Profile of Federal Electoral Districts (2013 Representation Order) (2247)  \\\n",
       "0                                                  1                                      \n",
       "1                                                  2                                      \n",
       "2                                                  3                                      \n",
       "3                                                  4                                      \n",
       "4                                                  5                                      \n",
       "\n",
       "   Notes: Profile of Federal Electoral Districts (2013 Representation Order) (2247)  \\\n",
       "0                                                1.0                                  \n",
       "1                                                2.0                                  \n",
       "2                                                NaN                                  \n",
       "3                                                3.0                                  \n",
       "4                                                4.0                                  \n",
       "\n",
       "  Dim: Sex (3): Member ID: [1]: Total - Sex  \\\n",
       "0                               3.51517e+07   \n",
       "1                               3.34767e+07   \n",
       "2                                         5   \n",
       "3                               1.54124e+07   \n",
       "4                               1.40721e+07   \n",
       "\n",
       "  Dim: Sex (3): Member ID: [2]: Male Dim: Sex (3): Member ID: [3]: Female  \n",
       "0                                ...                                  ...  \n",
       "1                                ...                                  ...  \n",
       "2                                ...                                  ...  \n",
       "3                                ...                                  ...  \n",
       "4                                ...                                  ...  "
      ]
     },
     "execution_count": 7,
     "metadata": {},
     "output_type": "execute_result"
    }
   ],
   "source": [
    "df.head()"
   ]
  },
  {
   "cell_type": "code",
   "execution_count": 8,
   "metadata": {},
   "outputs": [
    {
     "data": {
      "text/plain": [
       "(790944, 14)"
      ]
     },
     "execution_count": 8,
     "metadata": {},
     "output_type": "execute_result"
    }
   ],
   "source": [
    "#rows*columns\n",
    "df.shape"
   ]
  },
  {
   "cell_type": "code",
   "execution_count": 9,
   "metadata": {},
   "outputs": [
    {
     "data": {
      "text/plain": [
       "Index(['CENSUS_YEAR', 'GEO_CODE (POR)', 'GEO_LEVEL', 'GEO_NAME', 'GNR',\n",
       "       'GNR_LF', 'DATA_QUALITY_FLAG', 'ALT_GEO_CODE',\n",
       "       'DIM: Profile of Federal Electoral Districts (2013 Representation Order) (2247)',\n",
       "       'Member ID: Profile of Federal Electoral Districts (2013 Representation Order) (2247)',\n",
       "       'Notes: Profile of Federal Electoral Districts (2013 Representation Order) (2247)',\n",
       "       'Dim: Sex (3): Member ID: [1]: Total - Sex',\n",
       "       'Dim: Sex (3): Member ID: [2]: Male',\n",
       "       'Dim: Sex (3): Member ID: [3]: Female'],\n",
       "      dtype='object')"
      ]
     },
     "execution_count": 9,
     "metadata": {},
     "output_type": "execute_result"
    }
   ],
   "source": [
    "#column names\n",
    "df.columns"
   ]
  },
  {
   "cell_type": "code",
   "execution_count": 10,
   "metadata": {},
   "outputs": [],
   "source": [
    "#Selecting required columns\n",
    "df=df[['CENSUS_YEAR','GEO_LEVEL','GEO_NAME','DIM: Profile of Federal Electoral Districts (2013 Representation Order) (2247)','Dim: Sex (3): Member ID: [1]: Total - Sex','Dim: Sex (3): Member ID: [2]: Male','Dim: Sex (3): Member ID: [3]: Female']]\n",
    "      "
   ]
  },
  {
   "cell_type": "code",
   "execution_count": 11,
   "metadata": {},
   "outputs": [
    {
     "data": {
      "text/html": [
       "<div>\n",
       "<style scoped>\n",
       "    .dataframe tbody tr th:only-of-type {\n",
       "        vertical-align: middle;\n",
       "    }\n",
       "\n",
       "    .dataframe tbody tr th {\n",
       "        vertical-align: top;\n",
       "    }\n",
       "\n",
       "    .dataframe thead th {\n",
       "        text-align: right;\n",
       "    }\n",
       "</style>\n",
       "<table border=\"1\" class=\"dataframe\">\n",
       "  <thead>\n",
       "    <tr style=\"text-align: right;\">\n",
       "      <th></th>\n",
       "      <th>CENSUS_YEAR</th>\n",
       "      <th>GEO_LEVEL</th>\n",
       "      <th>GEO_NAME</th>\n",
       "      <th>DIM: Profile of Federal Electoral Districts (2013 Representation Order) (2247)</th>\n",
       "      <th>Dim: Sex (3): Member ID: [1]: Total - Sex</th>\n",
       "      <th>Dim: Sex (3): Member ID: [2]: Male</th>\n",
       "      <th>Dim: Sex (3): Member ID: [3]: Female</th>\n",
       "    </tr>\n",
       "  </thead>\n",
       "  <tbody>\n",
       "    <tr>\n",
       "      <th>0</th>\n",
       "      <td>2016</td>\n",
       "      <td>0</td>\n",
       "      <td>Canada</td>\n",
       "      <td>Population, 2016</td>\n",
       "      <td>3.51517e+07</td>\n",
       "      <td>...</td>\n",
       "      <td>...</td>\n",
       "    </tr>\n",
       "    <tr>\n",
       "      <th>1</th>\n",
       "      <td>2016</td>\n",
       "      <td>0</td>\n",
       "      <td>Canada</td>\n",
       "      <td>Population, 2011</td>\n",
       "      <td>3.34767e+07</td>\n",
       "      <td>...</td>\n",
       "      <td>...</td>\n",
       "    </tr>\n",
       "    <tr>\n",
       "      <th>2</th>\n",
       "      <td>2016</td>\n",
       "      <td>0</td>\n",
       "      <td>Canada</td>\n",
       "      <td>Population percentage change, 2011 to 2016</td>\n",
       "      <td>5</td>\n",
       "      <td>...</td>\n",
       "      <td>...</td>\n",
       "    </tr>\n",
       "    <tr>\n",
       "      <th>3</th>\n",
       "      <td>2016</td>\n",
       "      <td>0</td>\n",
       "      <td>Canada</td>\n",
       "      <td>Total private dwellings</td>\n",
       "      <td>1.54124e+07</td>\n",
       "      <td>...</td>\n",
       "      <td>...</td>\n",
       "    </tr>\n",
       "    <tr>\n",
       "      <th>4</th>\n",
       "      <td>2016</td>\n",
       "      <td>0</td>\n",
       "      <td>Canada</td>\n",
       "      <td>Private dwellings occupied by usual residents</td>\n",
       "      <td>1.40721e+07</td>\n",
       "      <td>...</td>\n",
       "      <td>...</td>\n",
       "    </tr>\n",
       "  </tbody>\n",
       "</table>\n",
       "</div>"
      ],
      "text/plain": [
       "   CENSUS_YEAR  GEO_LEVEL GEO_NAME  \\\n",
       "0         2016          0   Canada   \n",
       "1         2016          0   Canada   \n",
       "2         2016          0   Canada   \n",
       "3         2016          0   Canada   \n",
       "4         2016          0   Canada   \n",
       "\n",
       "  DIM: Profile of Federal Electoral Districts (2013 Representation Order) (2247)  \\\n",
       "0                                   Population, 2016                               \n",
       "1                                   Population, 2011                               \n",
       "2         Population percentage change, 2011 to 2016                               \n",
       "3                            Total private dwellings                               \n",
       "4      Private dwellings occupied by usual residents                               \n",
       "\n",
       "  Dim: Sex (3): Member ID: [1]: Total - Sex  \\\n",
       "0                               3.51517e+07   \n",
       "1                               3.34767e+07   \n",
       "2                                         5   \n",
       "3                               1.54124e+07   \n",
       "4                               1.40721e+07   \n",
       "\n",
       "  Dim: Sex (3): Member ID: [2]: Male Dim: Sex (3): Member ID: [3]: Female  \n",
       "0                                ...                                  ...  \n",
       "1                                ...                                  ...  \n",
       "2                                ...                                  ...  \n",
       "3                                ...                                  ...  \n",
       "4                                ...                                  ...  "
      ]
     },
     "execution_count": 11,
     "metadata": {},
     "output_type": "execute_result"
    }
   ],
   "source": [
    "df.head()"
   ]
  },
  {
   "cell_type": "code",
   "execution_count": 12,
   "metadata": {},
   "outputs": [
    {
     "data": {
      "text/plain": [
       "(790944, 7)"
      ]
     },
     "execution_count": 12,
     "metadata": {},
     "output_type": "execute_result"
    }
   ],
   "source": [
    "df.shape"
   ]
  },
  {
   "cell_type": "code",
   "execution_count": 20,
   "metadata": {},
   "outputs": [
    {
     "data": {
      "text/html": [
       "<div>\n",
       "<style scoped>\n",
       "    .dataframe tbody tr th:only-of-type {\n",
       "        vertical-align: middle;\n",
       "    }\n",
       "\n",
       "    .dataframe tbody tr th {\n",
       "        vertical-align: top;\n",
       "    }\n",
       "\n",
       "    .dataframe thead th {\n",
       "        text-align: right;\n",
       "    }\n",
       "</style>\n",
       "<table border=\"1\" class=\"dataframe\">\n",
       "  <thead>\n",
       "    <tr style=\"text-align: right;\">\n",
       "      <th></th>\n",
       "      <th>Census_year</th>\n",
       "      <th>Geo_level</th>\n",
       "      <th>Geo_name</th>\n",
       "      <th>Metric</th>\n",
       "      <th>Total</th>\n",
       "      <th>Male</th>\n",
       "      <th>Female</th>\n",
       "    </tr>\n",
       "  </thead>\n",
       "  <tbody>\n",
       "    <tr>\n",
       "      <th>0</th>\n",
       "      <td>2016</td>\n",
       "      <td>0</td>\n",
       "      <td>Canada</td>\n",
       "      <td>Population, 2016</td>\n",
       "      <td>3.51517e+07</td>\n",
       "      <td>...</td>\n",
       "      <td>...</td>\n",
       "    </tr>\n",
       "    <tr>\n",
       "      <th>1</th>\n",
       "      <td>2016</td>\n",
       "      <td>0</td>\n",
       "      <td>Canada</td>\n",
       "      <td>Population, 2011</td>\n",
       "      <td>3.34767e+07</td>\n",
       "      <td>...</td>\n",
       "      <td>...</td>\n",
       "    </tr>\n",
       "    <tr>\n",
       "      <th>2</th>\n",
       "      <td>2016</td>\n",
       "      <td>0</td>\n",
       "      <td>Canada</td>\n",
       "      <td>Population percentage change, 2011 to 2016</td>\n",
       "      <td>5</td>\n",
       "      <td>...</td>\n",
       "      <td>...</td>\n",
       "    </tr>\n",
       "    <tr>\n",
       "      <th>3</th>\n",
       "      <td>2016</td>\n",
       "      <td>0</td>\n",
       "      <td>Canada</td>\n",
       "      <td>Total private dwellings</td>\n",
       "      <td>1.54124e+07</td>\n",
       "      <td>...</td>\n",
       "      <td>...</td>\n",
       "    </tr>\n",
       "    <tr>\n",
       "      <th>4</th>\n",
       "      <td>2016</td>\n",
       "      <td>0</td>\n",
       "      <td>Canada</td>\n",
       "      <td>Private dwellings occupied by usual residents</td>\n",
       "      <td>1.40721e+07</td>\n",
       "      <td>...</td>\n",
       "      <td>...</td>\n",
       "    </tr>\n",
       "  </tbody>\n",
       "</table>\n",
       "</div>"
      ],
      "text/plain": [
       "   Census_year  Geo_level Geo_name  \\\n",
       "0         2016          0   Canada   \n",
       "1         2016          0   Canada   \n",
       "2         2016          0   Canada   \n",
       "3         2016          0   Canada   \n",
       "4         2016          0   Canada   \n",
       "\n",
       "                                          Metric        Total Male Female  \n",
       "0                               Population, 2016  3.51517e+07  ...    ...  \n",
       "1                               Population, 2011  3.34767e+07  ...    ...  \n",
       "2     Population percentage change, 2011 to 2016            5  ...    ...  \n",
       "3                        Total private dwellings  1.54124e+07  ...    ...  \n",
       "4  Private dwellings occupied by usual residents  1.40721e+07  ...    ...  "
      ]
     },
     "execution_count": 20,
     "metadata": {},
     "output_type": "execute_result"
    }
   ],
   "source": [
    "# Renaming columns\n",
    "df=df.rename(columns = {'DIM: Profile of Federal Electoral Districts (2013 Representation Order) (2247)': \"Metric\",'Dim: Sex (3): Member ID: [1]: Total - Sex':\"Total\",'Dim: Sex (3): Member ID: [2]: Male': 'Male','Dim: Sex (3): Member ID: [3]: Female': 'Female'})\n",
    "df=df.rename(columns = {'CENSUS_YEAR':'Census_year','GEO_LEVEL':'Geo_level','GEO_NAME':'Geo_name'})\n",
    "df.head()"
   ]
  },
  {
   "cell_type": "code",
   "execution_count": 21,
   "metadata": {},
   "outputs": [
    {
     "data": {
      "text/plain": [
       "(790944, 7)"
      ]
     },
     "execution_count": 21,
     "metadata": {},
     "output_type": "execute_result"
    }
   ],
   "source": [
    "df.shape"
   ]
  },
  {
   "cell_type": "code",
   "execution_count": 28,
   "metadata": {},
   "outputs": [
    {
     "data": {
      "text/html": [
       "<div>\n",
       "<style scoped>\n",
       "    .dataframe tbody tr th:only-of-type {\n",
       "        vertical-align: middle;\n",
       "    }\n",
       "\n",
       "    .dataframe tbody tr th {\n",
       "        vertical-align: top;\n",
       "    }\n",
       "\n",
       "    .dataframe thead th {\n",
       "        text-align: right;\n",
       "    }\n",
       "</style>\n",
       "<table border=\"1\" class=\"dataframe\">\n",
       "  <thead>\n",
       "    <tr style=\"text-align: right;\">\n",
       "      <th></th>\n",
       "      <th>Id</th>\n",
       "      <th>Census_year</th>\n",
       "      <th>Geo_level</th>\n",
       "      <th>Geo_name</th>\n",
       "      <th>Metric</th>\n",
       "      <th>Total</th>\n",
       "      <th>Male</th>\n",
       "      <th>Female</th>\n",
       "    </tr>\n",
       "  </thead>\n",
       "  <tbody>\n",
       "    <tr>\n",
       "      <th>0</th>\n",
       "      <td>1</td>\n",
       "      <td>2016</td>\n",
       "      <td>0</td>\n",
       "      <td>Canada</td>\n",
       "      <td>Population, 2016</td>\n",
       "      <td>3.51517e+07</td>\n",
       "      <td>...</td>\n",
       "      <td>...</td>\n",
       "    </tr>\n",
       "    <tr>\n",
       "      <th>2247</th>\n",
       "      <td>2</td>\n",
       "      <td>2016</td>\n",
       "      <td>1</td>\n",
       "      <td>Newfoundland and Labrador</td>\n",
       "      <td>Population, 2016</td>\n",
       "      <td>519716</td>\n",
       "      <td>...</td>\n",
       "      <td>...</td>\n",
       "    </tr>\n",
       "    <tr>\n",
       "      <th>4494</th>\n",
       "      <td>3</td>\n",
       "      <td>2016</td>\n",
       "      <td>2</td>\n",
       "      <td>Avalon</td>\n",
       "      <td>Population, 2016</td>\n",
       "      <td>86494</td>\n",
       "      <td>...</td>\n",
       "      <td>...</td>\n",
       "    </tr>\n",
       "    <tr>\n",
       "      <th>6741</th>\n",
       "      <td>4</td>\n",
       "      <td>2016</td>\n",
       "      <td>2</td>\n",
       "      <td>Bonavista--Burin--Trinity</td>\n",
       "      <td>Population, 2016</td>\n",
       "      <td>74116</td>\n",
       "      <td>...</td>\n",
       "      <td>...</td>\n",
       "    </tr>\n",
       "    <tr>\n",
       "      <th>8988</th>\n",
       "      <td>5</td>\n",
       "      <td>2016</td>\n",
       "      <td>2</td>\n",
       "      <td>Coast of Bays--Central--Notre Dame</td>\n",
       "      <td>Population, 2016</td>\n",
       "      <td>77680</td>\n",
       "      <td>...</td>\n",
       "      <td>...</td>\n",
       "    </tr>\n",
       "  </tbody>\n",
       "</table>\n",
       "</div>"
      ],
      "text/plain": [
       "      Id  Census_year  Geo_level                            Geo_name  \\\n",
       "0      1         2016          0                              Canada   \n",
       "2247   2         2016          1           Newfoundland and Labrador   \n",
       "4494   3         2016          2                              Avalon   \n",
       "6741   4         2016          2           Bonavista--Burin--Trinity   \n",
       "8988   5         2016          2  Coast of Bays--Central--Notre Dame   \n",
       "\n",
       "                Metric        Total Male Female  \n",
       "0     Population, 2016  3.51517e+07  ...    ...  \n",
       "2247  Population, 2016       519716  ...    ...  \n",
       "4494  Population, 2016        86494  ...    ...  \n",
       "6741  Population, 2016        74116  ...    ...  \n",
       "8988  Population, 2016        77680  ...    ...  "
      ]
     },
     "execution_count": 28,
     "metadata": {},
     "output_type": "execute_result"
    }
   ],
   "source": [
    "df_population_2016=df.loc[df[\"Metric\"]==\"Population, 2016\", :]\n",
    "df_population_2016.insert(0,'Id',range(1,1+len(df_population_2016)))\n",
    "df_population_2016.head()"
   ]
  },
  {
   "cell_type": "code",
   "execution_count": 23,
   "metadata": {},
   "outputs": [
    {
     "data": {
      "text/plain": [
       "(352, 7)"
      ]
     },
     "execution_count": 23,
     "metadata": {},
     "output_type": "execute_result"
    }
   ],
   "source": [
    "df_population_2016.shape"
   ]
  },
  {
   "cell_type": "code",
   "execution_count": 17,
   "metadata": {},
   "outputs": [
    {
     "data": {
      "text/plain": [
       "<sqlalchemy.engine.result.ResultProxy at 0x119ec2f98>"
      ]
     },
     "execution_count": 17,
     "metadata": {},
     "output_type": "execute_result"
    }
   ],
   "source": [
    "#database connection\n",
    "metadata = MetaData()\n",
    "engine = create_engine(f'mysql+pymysql://{username}:{pwd}@{host}:3306')\n",
    "engine.execute(CreateSchema('ValueofVote'))"
   ]
  },
  {
   "cell_type": "code",
   "execution_count": 29,
   "metadata": {},
   "outputs": [],
   "source": [
    "engine.execute(\"USE ValueofVote\")\n",
    "metadata = MetaData()"
   ]
  },
  {
   "cell_type": "code",
   "execution_count": 30,
   "metadata": {},
   "outputs": [],
   "source": [
    "#create table\n",
    "Population_2016 = Table('population_2016', metadata,\n",
    "    Column('Id', Integer, primary_key=True),\n",
    "    Column('Census_year', Integer, nullable=False),\n",
    "    Column('Geo_level', Integer, nullable=False),\n",
    "    Column('Geo_Name', String(100), nullable=False),\n",
    "    Column('Metric', String(100), nullable=False),\n",
    "    Column('Total', Integer, nullable=True),\n",
    "    Column('Male', Integer, nullable=True),\n",
    "    Column('Female', Integer, nullable=True)\n",
    ")"
   ]
  },
  {
   "cell_type": "code",
   "execution_count": 32,
   "metadata": {},
   "outputs": [],
   "source": [
    "df_population_2016.to_sql(name='population_2016', con=engine, if_exists='replace', index=False)"
   ]
  },
  {
   "cell_type": "code",
   "execution_count": null,
   "metadata": {},
   "outputs": [],
   "source": []
  }
 ],
 "metadata": {
  "kernelspec": {
   "display_name": "Python 3",
   "language": "python",
   "name": "python3"
  },
  "language_info": {
   "codemirror_mode": {
    "name": "ipython",
    "version": 3
   },
   "file_extension": ".py",
   "mimetype": "text/x-python",
   "name": "python",
   "nbconvert_exporter": "python",
   "pygments_lexer": "ipython3",
   "version": "3.6.7"
  }
 },
 "nbformat": 4,
 "nbformat_minor": 2
}
